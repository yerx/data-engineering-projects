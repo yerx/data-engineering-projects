{
 "cells": [
  {
   "cell_type": "markdown",
   "metadata": {},
   "source": [
    "# Lesson 1 Exercise 1: Creating a Table with PostgreSQL"
   ]
  },
  {
   "cell_type": "markdown",
   "metadata": {},
   "source": [
    "### Walk through the basics of PostgreSQL. You will need to complete the following tasks:<li> Create a table in PostgreSQL, <li> Insert rows of data <li> Run a simple SQL query to validate the information. <br>\n",
    "\n",
    "`#####` denotes where the code needs to be completed. "
   ]
  },
  {
   "cell_type": "markdown",
   "metadata": {},
   "source": [
    "#### Import the library \n",
    "*Note:* An error might popup after this command has executed. If it does, read it carefully before ignoring. "
   ]
  },
  {
   "cell_type": "code",
   "execution_count": 21,
   "metadata": {},
   "outputs": [],
   "source": [
    "import psycopg2"
   ]
  },
  {
   "cell_type": "markdown",
   "metadata": {},
   "source": [
    "**Create a connection to the database**"
   ]
  },
  {
   "cell_type": "code",
   "execution_count": 22,
   "metadata": {},
   "outputs": [
    {
     "name": "stdout",
     "output_type": "stream",
     "text": [
      "Connected to database\n"
     ]
    }
   ],
   "source": [
    "try:\n",
    "    conn = psycopg2.connect(\"host='127.0.0.1' dbname='studentdb' user='postgres'\")\n",
    "    print(\"Connected to database\")\n",
    "except psycopg2.Error as e:\n",
    "    print(\"Error: Could not make connection to the Postgres database\")\n",
    "    print(e)"
   ]
  },
  {
   "cell_type": "markdown",
   "metadata": {},
   "source": [
    "**Use the connection to get a cursor that can be used to execute queries.**"
   ]
  },
  {
   "cell_type": "code",
   "execution_count": 23,
   "metadata": {},
   "outputs": [],
   "source": [
    "try:\n",
    "    cur = conn.cursor()\n",
    "except psycopg2.Error as e:\n",
    "    print(\"Error: Could not get cursor to the database\")\n",
    "    print(e)"
   ]
  },
  {
   "cell_type": "markdown",
   "metadata": {},
   "source": [
    "**TO-DO: Set automatic commit to be true so that each action is committed without having to call conn.commit() after each command.**"
   ]
  },
  {
   "cell_type": "code",
   "execution_count": 24,
   "metadata": {},
   "outputs": [],
   "source": [
    "conn.set_session(autocommit=True)"
   ]
  },
  {
   "cell_type": "markdown",
   "metadata": {},
   "source": [
    "**TO-DO: Create a database to do the work in.**"
   ]
  },
  {
   "cell_type": "code",
   "execution_count": 25,
   "metadata": {},
   "outputs": [
    {
     "name": "stdout",
     "output_type": "stream",
     "text": [
      "Error: Creating database\n",
      "database \"music_lib\" already exists\n",
      "\n"
     ]
    }
   ],
   "source": [
    "## TO-DO: Add the database name within the CREATE DATABASE statement.You can choose your own db name.\n",
    "try: \n",
    "    cur.execute(\"CREATE DATABASE music_lib\")\n",
    "except psycopg2.Error as e:\n",
    "    print(\"Error: Creating database\")\n",
    "    print(e)"
   ]
  },
  {
   "cell_type": "markdown",
   "metadata": {},
   "source": [
    "**TO-DO: Add the database name in the connect statement. Let's close our connection to the default database, reconnect to the Udacity database and get a new cursor.**"
   ]
  },
  {
   "cell_type": "code",
   "execution_count": 26,
   "metadata": {},
   "outputs": [],
   "source": [
    "## TO-DO: Add the database name within the connect statement\n",
    "try:\n",
    "    conn.close()\n",
    "except psycopg2.Error as e:\n",
    "    print(e)\n",
    "\n",
    "try:\n",
    "    conn = psycopg2.connect(\"dbname='music_lib'\")\n",
    "except psycopg2.Error as e:\n",
    "    print(\"Error: Could not make connection to the Postgres database\")\n",
    "    print(e)\n",
    "\n",
    "try:\n",
    "    cur = conn.cursor()\n",
    "except psycopg2.Error as e:\n",
    "    print(\"Error: Could not get cursor to the database\")\n",
    "    print(e)\n",
    "\n",
    "conn.set_session(autocommit=True)"
   ]
  },
  {
   "cell_type": "markdown",
   "metadata": {},
   "source": [
    "**Create a song library that contains a list of songs, including the song name, artist name, year, album it was from and if it was a single.**\n",
    "`song_title\n",
    "artist_name\n",
    "year\n",
    "album_name\n",
    "single`"
   ]
  },
  {
   "cell_type": "code",
   "execution_count": 27,
   "metadata": {},
   "outputs": [],
   "source": [
    "## TO-DO: Finish writing the CREATE TABLE statement with the correct arguments\n",
    "try:\n",
    "    cur.execute(\"CREATE TABLE IF NOT EXISTS music_lib (song_title varchar, artist_name varchar, year int, album_name varchar, single boolean);\")\n",
    "except psycopg2.Error as e:\n",
    "    print(\"Error: Issue creating table\")\n",
    "    print(e)"
   ]
  },
  {
   "cell_type": "markdown",
   "metadata": {},
   "source": [
    "**TO-DO: Insert the following two rows in the table**\n",
    "\n",
    "`First Row: \"Across The Universe\", \"The Beatles\", \"1970\", \"False\", \"Let It Be\"\n",
    "Second Row: \"The Beatles\", \"Think For Yourself\", \"False\", \"1965\", \"Rubber Soul\"`"
   ]
  },
  {
   "cell_type": "code",
   "execution_count": 29,
   "metadata": {},
   "outputs": [],
   "source": [
    "## TO-DO: Finish the INSERT INTO statement with the correct arguments\n",
    "try:\n",
    "    cur.execute(\"INSERT INTO music_lib (song_title, artist_name, year, album_name, single) \\\n",
    "                VALUES (%s, %s, %s, %s, %s)\", \\\n",
    "                (\"Across The Universe\", \"The Beatles\", 1970, \"Let It Be\", False))\n",
    "except psycopg2.Error as e:\n",
    "    print(\"Error: Inserting rows\")\n",
    "    print(e)\n",
    "\n",
    "try:\n",
    "    cur.execute(\"INSERT INTO music_lib (song_title, artist_name, year, album_name, single) \\\n",
    "                VALUES (%s, %s, %s, %s, %s)\", \\\n",
    "                (\"Think For Yourself\", \"The Beatles\", 1965, \"Rubber Soul\", False))\n",
    "except psycopg2.Error as e:\n",
    "    print(\"Error: Inserting rows\")\n",
    "    print(e)\n",
    "    "
   ]
  },
  {
   "cell_type": "markdown",
   "metadata": {},
   "source": [
    "**TO-DO: Validate your data was inserted into the table.**"
   ]
  },
  {
   "cell_type": "code",
   "execution_count": 30,
   "metadata": {},
   "outputs": [
    {
     "name": "stdout",
     "output_type": "stream",
     "text": [
      "('Across The Universe', 'The Beatles', 1970, 'Let It Be', False)\n",
      "('Think For Yourself', 'The Beatles', 1965, 'Rubber Soul', False)\n",
      "('Across The Universe', 'The Beatles', 1970, 'Let It Be', False)\n",
      "('Think For Yourself', 'The Beatles', 1965, 'Rubber Soul', False)\n",
      "('Across The Universe', 'The Beatles', 1970, 'Let It Be', False)\n",
      "('Think For Yourself', 'The Beatles', 1965, 'Rubber Soul', False)\n"
     ]
    }
   ],
   "source": [
    "## TO-DO: Finish the SELECT * Statement\n",
    "try: \n",
    "    cur.execute(\"SELECT * from music_lib\") \n",
    "except psycopg2.Error as e:\n",
    "    print(\"Error: select *\")\n",
    "    print(e)\n",
    "\n",
    "row = cur.fetchone()\n",
    "while row:\n",
    "    print(row)\n",
    "    row = cur.fetchone()\n",
    "        "
   ]
  },
  {
   "cell_type": "markdown",
   "metadata": {},
   "source": [
    "**And finally close your cursor and connection.**"
   ]
  },
  {
   "cell_type": "code",
   "execution_count": 31,
   "metadata": {},
   "outputs": [],
   "source": [
    "cur.close()\n",
    "conn.close()"
   ]
  },
  {
   "cell_type": "code",
   "execution_count": null,
   "metadata": {},
   "outputs": [],
   "source": []
  }
 ],
 "metadata": {
  "kernelspec": {
   "display_name": "Python 3",
   "language": "python",
   "name": "python3"
  },
  "language_info": {
   "codemirror_mode": {
    "name": "ipython",
    "version": 3
   },
   "file_extension": ".py",
   "mimetype": "text/x-python",
   "name": "python",
   "nbconvert_exporter": "python",
   "pygments_lexer": "ipython3",
   "version": "3.6.4"
  }
 },
 "nbformat": 4,
 "nbformat_minor": 2
}
